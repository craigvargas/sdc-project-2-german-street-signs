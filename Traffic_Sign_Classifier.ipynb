{
 "cells": [
  {
   "cell_type": "markdown",
   "metadata": {},
   "source": [
    "# Self-Driving Car Engineer Nanodegree\n",
    "\n",
    "## Deep Learning\n",
    "\n",
    "## Project: Build a Traffic Sign Recognition Classifier\n",
    "\n",
    "In this notebook, a template is provided for you to implement your functionality in stages which is required to successfully complete this project. If additional code is required that cannot be included in the notebook, be sure that the Python code is successfully imported and included in your submission, if necessary. Sections that begin with **'Implementation'** in the header indicate where you should begin your implementation for your project. Note that some sections of implementation are optional, and will be marked with **'Optional'** in the header.\n",
    "\n",
    "In addition to implementing code, there will be questions that you must answer which relate to the project and your implementation. Each section where you will answer a question is preceded by a **'Question'** header. Carefully read each question and provide thorough answers in the following text boxes that begin with **'Answer:'**. Your project submission will be evaluated based on your answers to each of the questions and the implementation you provide.\n",
    "\n",
    ">**Note:** Code and Markdown cells can be executed using the **Shift + Enter** keyboard shortcut. In addition, Markdown cells can be edited by typically double-clicking the cell to enter edit mode."
   ]
  },
  {
   "cell_type": "markdown",
   "metadata": {},
   "source": [
    "---\n",
    "## Step 0: Load The Data"
   ]
  },
  {
   "cell_type": "code",
   "execution_count": 485,
   "metadata": {
    "collapsed": true
   },
   "outputs": [],
   "source": [
    "# Load pickled data\n",
    "import pickle\n",
    "\n",
    "# TODO: Fill this in based on where you saved the training and testing data\n",
    "\n",
    "training_file = '/Users/cvar/SelfDrivingCar/Term_One/ProjectTwo/traffic-signs-data/train.p'\n",
    "testing_file = '/Users/cvar/SelfDrivingCar/Term_One/ProjectTwo/traffic-signs-data/test.p'\n",
    "\n",
    "with open(training_file, mode='rb') as f:\n",
    "    train = pickle.load(f)\n",
    "with open(testing_file, mode='rb') as f:\n",
    "    test = pickle.load(f)\n",
    "    \n",
    "X_train, y_train = train['features'], train['labels']\n",
    "X_test, y_test = test['features'], test['labels']"
   ]
  },
  {
   "cell_type": "markdown",
   "metadata": {},
   "source": [
    "---\n",
    "\n",
    "## Step 1: Dataset Summary & Exploration\n",
    "\n",
    "The pickled data is a dictionary with 4 key/value pairs:\n",
    "\n",
    "- `'features'` is a 4D array containing raw pixel data of the traffic sign images, (num examples, width, height, channels).\n",
    "- `'labels'` is a 1D array containing the label/class id of the traffic sign. The file `signnames.csv` contains id -> name mappings for each id.\n",
    "- `'sizes'` is a list containing tuples, (width, height) representing the the original width and height the image.\n",
    "- `'coords'` is a list containing tuples, (x1, y1, x2, y2) representing coordinates of a bounding box around the sign in the image. **THESE COORDINATES ASSUME THE ORIGINAL IMAGE. THE PICKLED DATA CONTAINS RESIZED VERSIONS (32 by 32) OF THESE IMAGES**\n",
    "\n",
    "Complete the basic data summary below."
   ]
  },
  {
   "cell_type": "code",
   "execution_count": 486,
   "metadata": {
    "collapsed": false
   },
   "outputs": [
    {
     "name": "stdout",
     "output_type": "stream",
     "text": [
      "Number of training examples = 39209\n",
      "Number of testing examples = 12630\n",
      "Image data shape = (32, 32, 3)\n",
      "Number of classes = 43\n"
     ]
    }
   ],
   "source": [
    "### Replace each question mark with the appropriate value.\n",
    "import numpy as np\n",
    "\n",
    "# TODO: Number of training examples\n",
    "n_train = len(y_train)\n",
    "\n",
    "# TODO: Number of testing examples.\n",
    "n_test = len(y_test)\n",
    "\n",
    "# TODO: What's the shape of an traffic sign image?\n",
    "image_shape = X_train[0].shape\n",
    "\n",
    "# TODO: How many unique classes/labels there are in the dataset.\n",
    "n_classes = len(np.unique(y_train))\n",
    "\n",
    "print(\"Number of training examples =\", n_train)\n",
    "print(\"Number of testing examples =\", n_test)\n",
    "print(\"Image data shape =\", image_shape)\n",
    "print(\"Number of classes =\", n_classes)"
   ]
  },
  {
   "cell_type": "markdown",
   "metadata": {},
   "source": [
    "Visualize the German Traffic Signs Dataset using the pickled file(s). This is open ended, suggestions include: plotting traffic sign images, plotting the count of each sign, etc.\n",
    "\n",
    "The [Matplotlib](http://matplotlib.org/) [examples](http://matplotlib.org/examples/index.html) and [gallery](http://matplotlib.org/gallery.html) pages are a great resource for doing visualizations in Python.\n",
    "\n",
    "**NOTE:** It's recommended you start with something simple first. If you wish to do more, come back to it after you've completed the rest of the sections."
   ]
  },
  {
   "cell_type": "code",
   "execution_count": 487,
   "metadata": {
    "collapsed": false
   },
   "outputs": [
    {
     "name": "stdout",
     "output_type": "stream",
     "text": [
      "36\n"
     ]
    },
    {
     "data": {
      "image/png": "[encoded data removed]",
      "text/plain": [
       "<matplotlib.figure.Figure at 0x1631f7588>"
      ]
     },
     "metadata": {},
     "output_type": "display_data"
    }
   ],
   "source": [
    "### Data exploration visualization goes here.\n",
    "### Feel free to use as many code cells as needed.\n",
    "import matplotlib.pyplot as plt\n",
    "import random\n",
    "# Visualizations will be shown in the notebook.\n",
    "%matplotlib inline\n",
    "\n",
    "index = random.randint(0, n_train)\n",
    "image = X_train[index].squeeze()\n",
    "plt.figure(figsize=(1,1))\n",
    "plt.imshow(image)\n",
    "print(y_train[index])"
   ]
  },
  {
   "cell_type": "code",
   "execution_count": 535,
   "metadata": {
    "collapsed": false
   },
   "outputs": [
    {
     "name": "stdout",
     "output_type": "stream",
     "text": [
      "Sign #: 0 frequency: 270\n",
      "Sign #: 1 frequency: 2940\n",
      "Sign #: 2 frequency: 3000\n",
      "Sign #: 3 frequency: 1860\n",
      "Sign #: 4 frequency: 2640\n",
      "Sign #: 5 frequency: 2490\n",
      "Sign #: 6 frequency: 570\n",
      "Sign #: 7 frequency: 1890\n",
      "Sign #: 8 frequency: 1860\n",
      "Sign #: 9 frequency: 1950\n",
      "Sign #: 10 frequency: 2670\n",
      "Sign #: 11 frequency: 1740\n",
      "Sign #: 12 frequency: 2790\n",
      "Sign #: 13 frequency: 2880\n",
      "Sign #: 14 frequency: 1050\n",
      "Sign #: 15 frequency: 840\n",
      "Sign #: 16 frequency: 570\n",
      "Sign #: 17 frequency: 1470\n",
      "Sign #: 18 frequency: 1590\n",
      "Sign #: 19 frequency: 270\n",
      "Sign #: 20 frequency: 450\n",
      "Sign #: 21 frequency: 420\n",
      "Sign #: 22 frequency: 510\n",
      "Sign #: 23 frequency: 660\n",
      "Sign #: 24 frequency: 360\n",
      "Sign #: 25 frequency: 1980\n",
      "Sign #: 26 frequency: 780\n",
      "Sign #: 27 frequency: 300\n",
      "Sign #: 28 frequency: 690\n",
      "Sign #: 29 frequency: 360\n",
      "Sign #: 30 frequency: 600\n",
      "Sign #: 31 frequency: 1050\n",
      "Sign #: 32 frequency: 300\n",
      "Sign #: 33 frequency: 899\n",
      "Sign #: 34 frequency: 540\n",
      "Sign #: 35 frequency: 1590\n",
      "Sign #: 36 frequency: 510\n",
      "Sign #: 37 frequency: 270\n",
      "Sign #: 38 frequency: 2760\n",
      "Sign #: 39 frequency: 390\n",
      "Sign #: 40 frequency: 450\n",
      "Sign #: 41 frequency: 300\n",
      "Sign #: 42 frequency: 330\n"
     ]
    }
   ],
   "source": [
    "#Frequency Analysis\n",
    "freq = np.bincount(np.concatenate((y_train, y_test)))\n",
    "for index, count in enumerate(freq):\n",
    "    print(\"Sign #:\", index, \"frequency:\", count)\n",
    "# print(freq, type(freq), freq.shape)"
   ]
  },
  {
   "cell_type": "markdown",
   "metadata": {},
   "source": [
    "----\n",
    "\n",
    "## Step 2: Design and Test a Model Architecture\n",
    "\n",
    "Design and implement a deep learning model that learns to recognize traffic signs. Train and test your model on the [German Traffic Sign Dataset](http://benchmark.ini.rub.de/?section=gtsrb&subsection=dataset).\n",
    "\n",
    "There are various aspects to consider when thinking about this problem:\n",
    "\n",
    "- Neural network architecture\n",
    "- Play around preprocessing techniques (normalization, rgb to grayscale, etc)\n",
    "- Number of examples per label (some have more than others).\n",
    "- Generate fake data.\n",
    "\n",
    "Here is an example of a [published baseline model on this problem](http://yann.lecun.com/exdb/publis/pdf/sermanet-ijcnn-11.pdf). It's not required to be familiar with the approach used in the paper but, it's good practice to try to read papers like these.\n",
    "\n",
    "**NOTE:** The LeNet-5 implementation shown in the [classroom](https://classroom.udacity.com/nanodegrees/nd013/parts/fbf77062-5703-404e-b60c-95b78b2f3f9e/modules/6df7ae49-c61c-4bb2-a23e-6527e69209ec/lessons/601ae704-1035-4287-8b11-e2c2716217ad/concepts/d4aca031-508f-4e0b-b493-e7b706120f81) at the end of the CNN lesson is a solid starting point. You'll have to change the number of classes and possibly the preprocessing, but aside from that it's plug and play!"
   ]
  },
  {
   "cell_type": "markdown",
   "metadata": {},
   "source": [
    "### Implementation\n",
    "\n",
    "Use the code cell (or multiple code cells, if necessary) to implement the first step of your project. Once you have completed your implementation and are satisfied with the results, be sure to thoroughly answer the questions that follow."
   ]
  },
  {
   "cell_type": "code",
   "execution_count": 493,
   "metadata": {
    "collapsed": false
   },
   "outputs": [
    {
     "name": "stdout",
     "output_type": "stream",
     "text": [
      "<class 'numpy.ndarray'>\n"
     ]
    }
   ],
   "source": [
    "### Preprocess the data here.\n",
    "### Feel free to use as many code cells as needed.\n",
    "print(type(X_train))\n",
    "full_x = np.concatenate((X_train, X_test))\n",
    "full_y = np.concatenate((y_train, y_test))\n",
    "data_length = len(full_x)\n",
    "# print(\"full length:\", len(X), len(y))\n",
    "\n"
   ]
  },
  {
   "cell_type": "markdown",
   "metadata": {},
   "source": [
    "### Question 1 \n",
    "\n",
    "_Describe how you preprocessed the data. Why did you choose that technique?_\n",
    "\n",
    "\n"
   ]
  },
  {
   "cell_type": "markdown",
   "metadata": {},
   "source": [
    "**Answer:** \n",
    "\n",
    "No special preprocessing at this step, decided to use the raw data.  "
   ]
  },
  {
   "cell_type": "code",
   "execution_count": 494,
   "metadata": {
    "collapsed": false
   },
   "outputs": [
    {
     "name": "stdout",
     "output_type": "stream",
     "text": [
      "Sizes: 36287 6739 8812 51838\n",
      "image shape: (36, 36, 3)\n",
      "Array lengths: 36287 6739 8813\n"
     ]
    }
   ],
   "source": [
    "### Generate additional data (OPTIONAL!)\n",
    "### and split the data into training/validation/testing sets here.\n",
    "### Feel free to use as many code cells as needed.\n",
    "from sklearn.utils import shuffle\n",
    "\n",
    "\n",
    "full_x, full_y = shuffle(full_x, full_y)\n",
    "train_size = int(data_length * 0.7)\n",
    "validation_size = int(data_length * 0.13)\n",
    "test_size = int(data_length * 0.17)\n",
    "\n",
    "print(\"Sizes:\", train_size, validation_size, test_size, train_size + validation_size + test_size )\n",
    "\n",
    "my_train_x = full_x[0:train_size]\n",
    "my_train_y = full_y[0:train_size]\n",
    "my_valid_x = full_x[train_size:train_size + validation_size]\n",
    "my_valid_y = full_y[train_size:train_size + validation_size]\n",
    "my_test_x = full_x[train_size + validation_size:]\n",
    "my_test_y = full_y[train_size + validation_size:]\n",
    "\n",
    "my_train_x = np.pad(my_train_x, ((0,0), (2,2), (2,2), (0,0)), 'constant')\n",
    "my_valid_x = np.pad(my_valid_x, ((0,0), (2,2), (2,2), (0,0)), 'constant')\n",
    "my_test_x = np.pad(my_test_x, ((0,0), (2,2), (2,2), (0,0)), 'constant')\n",
    "print(\"image shape:\", my_train_x[0].shape)\n",
    "\n",
    "train_size = len(my_train_x)\n",
    "valid_size = len(my_valid_x)\n",
    "test_size = len(my_test_x)\n",
    "print(\"Array lengths:\", train_size, valid_size, test_size)\n",
    "\n"
   ]
  },
  {
   "cell_type": "markdown",
   "metadata": {},
   "source": [
    "### Question 2\n",
    "\n",
    "_Describe how you set up the training, validation and testing data for your model. **Optional**: If you generated additional data, how did you generate the data? Why did you generate the data? What are the differences in the new dataset (with generated data) from the original dataset?_"
   ]
  },
  {
   "cell_type": "markdown",
   "metadata": {},
   "source": [
    "**Answer:** I Split data into training, validation, and test tiers by shuffling the data and slicing it into pieces with the following percentages:\n",
    "Training: 70%\n",
    "Validation: 13%\n",
    "Test: 17%"
   ]
  },
  {
   "cell_type": "code",
   "execution_count": 495,
   "metadata": {
    "collapsed": false
   },
   "outputs": [],
   "source": [
    "### Define your architecture here.\n",
    "### Feel free to use as many code cells as needed.\n",
    "import tensorflow as tf\n",
    "from tensorflow.contrib.layers import flatten\n",
    "\n",
    "\n",
    "def le_net(x, n_classes):\n",
    "    print(\"le_net: n_classes =\", n_classes)\n",
    "    mu = 0.0\n",
    "    sigma = 0.05\n",
    "\n",
    "    input_shape = x[0].get_shape().as_list()\n",
    "\n",
    "    #Layer \n",
    "    #------\n",
    "    \n",
    "    #Conv1 36x36x3 -> 32x32x6\n",
    "    conv1_W = tf.Variable(tf.truncated_normal(shape=(5, 5, 3, 6), mean=mu, stddev=sigma))\n",
    "    conv1_b = tf.Variable(tf.zeros(6))\n",
    "    conv1 = tf.nn.conv2d(x, conv1_W, strides=[1,1,1,1], padding='VALID') + conv1_b\n",
    "    \n",
    "    #Activ1\n",
    "    conv1 = tf.nn.relu(conv1)\n",
    "    \n",
    "    #Pooling1 32x32x6 -> 16x16x6\n",
    "    conv1 = tf.nn.max_pool(conv1, ksize=[1,2,2,1], strides = [1,2,2,1], padding='VALID')\n",
    "    \n",
    "    \n",
    "    #Layer 2\n",
    "    #--------\n",
    "    \n",
    "    #Conv2 16x16x6 -> 12x12x16\n",
    "    conv2_W = tf.Variable(tf.truncated_normal(shape=(5, 5, 6, 16), mean=mu, stddev=sigma))\n",
    "    conv2_b = tf.Variable(tf.zeros(16))\n",
    "    conv2 = tf.nn.conv2d(conv1, conv2_W, strides=[1,1,1,1], padding='VALID') + conv2_b\n",
    "    \n",
    "    #Activ2\n",
    "    conv2 = tf.nn.relu(conv2)\n",
    "    \n",
    "    #Pooling2 12x12x16 -> 6x6x16\n",
    "    conv2 = tf.nn.max_pool(conv2, ksize=[1,2,2,1], strides = [1,2,2,1], padding='VALID')\n",
    "    \n",
    "    \n",
    "    #Flatten\n",
    "    #--------\n",
    "    \n",
    "    fc_in = flatten(conv2)\n",
    "    \n",
    "    \n",
    "    #Layer 3 \n",
    "    #---------\n",
    "    \n",
    "    #(Fully connected)  576 -> 185\n",
    "    out_dim_3 = 307\n",
    "    fc1_W = tf.Variable(tf.truncated_normal(shape=(576, out_dim_3), mean=mu, stddev=sigma))\n",
    "    fc1_b = tf.Variable(tf.zeros(out_dim_3))\n",
    "    fc1 = tf.matmul(fc_in, fc1_W) + fc1_b\n",
    "    \n",
    "    #Activ 3\n",
    "    fc1 = tf.nn.relu(fc1)\n",
    "    \n",
    "    \n",
    "    #Layer 4 \n",
    "    #---------\n",
    "    \n",
    "    #(Fully connected 2)  185 -> 130\n",
    "    out_dim_4 = 215\n",
    "    fc2_W = tf.Variable(tf.truncated_normal(shape=(out_dim_3, out_dim_4), mean=mu, stddev=sigma))\n",
    "    fc2_b = tf.Variable(tf.zeros(out_dim_4))\n",
    "    fc2 = tf.matmul(fc1, fc2_W) + fc2_b\n",
    "    \n",
    "    #Activ 4\n",
    "    fc2 = tf.nn.relu(fc2)\n",
    "    \n",
    "    \n",
    "    #Layer 5 \n",
    "    #---------\n",
    "    \n",
    "    #(Fully connected 2)  130 -> 43\n",
    "    fc3_W = tf.Variable(tf.truncated_normal(shape=(out_dim_4, n_classes), mean=mu, stddev=sigma))\n",
    "    fc3_b = tf.Variable(tf.zeros(n_classes))\n",
    "    logits = tf.matmul(fc2, fc3_W) + fc3_b\n",
    "    \n",
    "#     Activ 5\n",
    "#     logits = tf.nn.relu(logits)\n",
    "    \n",
    "    return logits\n",
    "    \n",
    "    "
   ]
  },
  {
   "cell_type": "markdown",
   "metadata": {},
   "source": [
    "### Question 3\n",
    "\n",
    "_What does your final architecture look like? (Type of model, layers, sizes, connectivity, etc.)  For reference on how to build a deep neural network using TensorFlow, see [Deep Neural Network in TensorFlow\n",
    "](https://classroom.udacity.com/nanodegrees/nd013/parts/fbf77062-5703-404e-b60c-95b78b2f3f9e/modules/6df7ae49-c61c-4bb2-a23e-6527e69209ec/lessons/b516a270-8600-4f93-a0a3-20dfeabe5da6/concepts/83a3a2a2-a9bd-4b7b-95b0-eb924ab14432) from the classroom._\n"
   ]
  },
  {
   "cell_type": "markdown",
   "metadata": {},
   "source": [
    "**Answer:**\n",
    "\n",
    "I used a similar structure to the le_net we built in the lab except that i added padding to the photo so the dimensions are slightly different.  Also, the width of the final logits array, is an input to my le_Net function so that the user can figure out what that should be ahead of time and feed it into the structure.  \n",
    "\n",
    "Since the width of the final logits array is 43 for this problem, I decided to scale up some of the other fully connected layters so they could be multiples of the final layer width as was the case in the digit recognizer lenet architechture.  I decided to choose a 4th layer that was 4 times the final layer, I came to this multiple through trial and error.  Due to this I also expanded the width of the first fully connected layer.  In the lenet example the layer 4 was 70% of the width of the first fully connected layer.  I went with a similar ratio and scaled up the first fully connected layer after I made the decision to scale up layer 4."
   ]
  },
  {
   "cell_type": "code",
   "execution_count": 496,
   "metadata": {
    "collapsed": false
   },
   "outputs": [
    {
     "name": "stdout",
     "output_type": "stream",
     "text": [
      "le_net: n_classes = 43\n"
     ]
    }
   ],
   "source": [
    "### Train your model here.\n",
    "### Feel free to use as many code cells as needed.\n",
    "\n",
    "x = tf.placeholder(tf.float32, (None, 36, 36, 3))\n",
    "y = tf.placeholder(tf.int32, (None))\n",
    "y_one_hot = tf.one_hot(y, n_classes)\n",
    "\n",
    "EPOCHS = 50\n",
    "BATCH_SIZE = 111\n",
    "LEARN_RATE = 0.0005\n",
    "\n",
    "logits = le_net(x, n_classes)\n",
    "cross_entropy = tf.nn.softmax_cross_entropy_with_logits(logits, y_one_hot)\n",
    "loss_operation = tf.reduce_mean(cross_entropy)\n",
    "optimizer = tf.train.AdamOptimizer(learning_rate=LEARN_RATE)\n",
    "training_operation = optimizer.minimize(loss_operation)\n",
    "\n",
    "correct_prediction = tf.equal(tf.argmax(logits, 1), tf.argmax(y_one_hot, 1))\n",
    "accuracy_operation = tf.reduce_mean(tf.cast(correct_prediction, tf.float32))\n",
    "\n",
    "def evaluate(x_data, y_data):\n",
    "    num_examples = len(x_data)\n",
    "    total_accuracy = 0\n",
    "    sess = tf.get_default_session()\n",
    "    \n",
    "    for offset in range(0, num_examples, BATCH_SIZE):\n",
    "        batch_x, batch_y = x_data[offset:offset+BATCH_SIZE], y_data[offset:offset+BATCH_SIZE]\n",
    "        accuracy = sess.run(accuracy_operation, feed_dict={x:batch_x, y:batch_y})\n",
    "        total_accuracy += (accuracy * len(batch_x))\n",
    "        \n",
    "    return total_accuracy / num_examples\n",
    "\n",
    "\n",
    "\n",
    "\n"
   ]
  },
  {
   "cell_type": "code",
   "execution_count": 530,
   "metadata": {
    "collapsed": false
   },
   "outputs": [],
   "source": [
    "import time\n",
    "\n",
    "time_start = time.time()\n",
    "saver = tf.train.Saver()\n",
    "\n",
    "with tf.Session() as sess:\n",
    "    sess.run(tf.initialize_all_variables())\n",
    "    \n",
    "    print(\"Training...\")\n",
    "    print()\n",
    "    \n",
    "    for i in range(EPOCHS):\n",
    "        epoch_start = time.time()\n",
    "        my_train_x, my_train_y = shuffle(my_train_x, my_train_y)\n",
    "        for offset in range(0, test_size, BATCH_SIZE):\n",
    "            end = offset + BATCH_SIZE\n",
    "            batch_x, batch_y = my_train_x[offset:end], my_train_y[offset:end]\n",
    "            sess.run(training_operation, feed_dict={x: batch_x, y: batch_y})\n",
    "            \n",
    "        validation_accuracy = evaluate(my_valid_x, my_valid_y)\n",
    "        print(\"Epoch\", format(i+1), \"->  Valid accuracy = {:.3f}\".format(validation_accuracy))\n",
    "        print(\"TIME -> EPOCH: {:.1f}sec.\".format(time.time()- epoch_start), \" |  TOTAL: {:.1f}sec\".format(time.time() - time_start),)\n",
    "\n",
    "#         print(\"Validation accuracy = {:.3f}\".format(validation_accuracy))\n",
    "#         print(\"Time -> Epoch: \", time.time()- epoch_start, \"seconds.  |  Total:\", time.time() - time_start)\n",
    "        print()\n",
    "        \n",
    "    time_end = time.time()\n",
    "    print(\"Elapsed time:\", (time_end - time_start)/float(60.0), \"minutes\")\n",
    "        \n",
    "    saver.save(sess, \"./lenet\")\n",
    "    print(\"model saved\")\n",
    "    \n",
    "    "
   ]
  },
  {
   "cell_type": "code",
   "execution_count": 499,
   "metadata": {
    "collapsed": false
   },
   "outputs": [],
   "source": [
    "# with tf.Session() as sess:\n",
    "    \n",
    "#     try:\n",
    "#         saver\n",
    "#     except NameError:\n",
    "#         saver = tf.train.Saver()\n",
    "    \n",
    "#     old_file_name = \"lenet\"\n",
    "#     saver.restore(sess, old_file_name)\n",
    "#     new_file_name = \"lenet_B111_E50_L0005_V972\"\n",
    "#     saver.save(sess, new_file_name)\n",
    "#     print(\"model saved:\", new_file_name)"
   ]
  },
  {
   "cell_type": "markdown",
   "metadata": {},
   "source": [
    "### Question 4\n",
    "\n",
    "_How did you train your model? (Type of optimizer, batch size, epochs, hyperparameters, etc.)_\n",
    "\n",
    "\n"
   ]
  },
  {
   "cell_type": "markdown",
   "metadata": {},
   "source": [
    "**Answer:**\n",
    "Used:\n",
    "Optimizer: Adam Optimizer\n",
    "batch size: 111\n",
    "epochs: 50\n",
    "learning rate: 0.0005"
   ]
  },
  {
   "cell_type": "markdown",
   "metadata": {},
   "source": [
    "### Question 5\n",
    "\n",
    "\n",
    "_What approach did you take in coming up with a solution to this problem? It may have been a process of trial and error, in which case, outline the steps you took to get to the final solution and why you chose those steps. Perhaps your solution involved an already well known implementation or architecture. In this case, discuss why you think this is suitable for the current problem._"
   ]
  },
  {
   "cell_type": "markdown",
   "metadata": {},
   "source": [
    "**Answer:**\n",
    "It was all trial and error.  I first tried to alter the lenet structure a bit to allow for larger layer widths.  Once I found an architecture that had good results after a few Epochs, I then started to tweak the batch size and again looked for a size that had good results after running for a few Epochs.  I then tried to tweak the Epochs and Learning Rate a bit to see what generated the best results.  \n",
    "\n",
    "My biggest source of improvement was lowering the sigma for the truncated normal variables used for initial values."
   ]
  },
  {
   "cell_type": "markdown",
   "metadata": {},
   "source": [
    "---\n",
    "\n",
    "## Step 3: Test a Model on New Images\n",
    "\n",
    "Take several pictures of traffic signs that you find on the web or around you (at least five), and run them through your classifier on your computer to produce example results. The classifier might not recognize some local signs but it could prove interesting nonetheless.\n",
    "\n",
    "You may find `signnames.csv` useful as it contains mappings from the class id (integer) to the actual sign name."
   ]
  },
  {
   "cell_type": "markdown",
   "metadata": {},
   "source": [
    "### Implementation\n",
    "\n",
    "Use the code cell (or multiple code cells, if necessary) to implement the first step of your project. Once you have completed your implementation and are satisfied with the results, be sure to thoroughly answer the questions that follow."
   ]
  },
  {
   "cell_type": "code",
   "execution_count": 508,
   "metadata": {
    "collapsed": false
   },
   "outputs": [
    {
     "name": "stdout",
     "output_type": "stream",
     "text": [
      "Image array size: 14\n"
     ]
    }
   ],
   "source": [
    "### Load the images and plot them here.\n",
    "### Feel free to use as many code cells as needed.\n",
    "import matplotlib.image as mpimg\n",
    "from PIL import Image\n",
    "\n",
    "#reading in an image\n",
    "path = '/Users/cvar/SelfDrivingCar/Term_One/ProjectTwo/traffic-signs-data/'\n",
    "extension = '.jpg'\n",
    "outfile_name = 'traffic_sign_'\n",
    "file_names = ['traffic_sign_stop']\n",
    "file_names.append('traffic_sign_caution_double_curve')\n",
    "file_names.append('traffic_sign_no_left_turn')\n",
    "file_names.append('traffic_sign_50km')\n",
    "file_names.append('traffic_sign_work')\n",
    "file_names.append('traffic_sign_yield')\n",
    "file_names.append('traffic_sign_signal_ahead')\n",
    "file_names.append('traffic_sign_pedestrian')\n",
    "file_names.append('traffic_sign_no_entry')\n",
    "file_names.append('traffic_sign_narrows_right')\n",
    "file_names.append('traffic_sign_round_about')\n",
    "file_names.append('traffic_sign_keep_right')\n",
    "file_names.append('traffic_sign_bicycle')\n",
    "file_names.append('traffic_sign_straight_right')\n",
    "\n",
    "\n",
    "\n",
    "\n",
    "\n",
    "\n",
    "#Use PIL to open and store images as smaller thumbnails\n",
    "images = []\n",
    "thumb_size = (32,32)\n",
    "for index, file_name in enumerate(file_names):\n",
    "    image = Image.open(path + file_name + extension)\n",
    "    image.thumbnail(thumb_size, Image.ANTIALIAS)\n",
    "    images.append(image)\n",
    "    image.save(path + outfile_name + str(index) + extension, 'JPEG')\n",
    "    \n",
    "print(\"Image array size:\", len(images))\n"
   ]
  },
  {
   "cell_type": "code",
   "execution_count": 509,
   "metadata": {
    "collapsed": false
   },
   "outputs": [
    {
     "name": "stdout",
     "output_type": "stream",
     "text": [
      "(14, 36, 36, 3)\n"
     ]
    }
   ],
   "source": [
    "#convert the images from a PIL image to an ndarray and stack them together in another ndarray\n",
    "input_list = np.ndarray((0,32,32,3))\n",
    "for image in images:\n",
    "    input_list = np.append(input_list,[mpimg.pil_to_array(image)], axis=0)\n",
    "#pad input\n",
    "input_list = np.pad(input_list, ((0,0), (2,2), (2,2), (0,0)), 'constant')\n",
    "\n",
    "output_list = [14, 21, 19, 2, 25, 13, 26, 27, 17, 24, 40, 38, 29, 36]\n",
    "\n",
    "# print(type(input_list))\n",
    "print(input_list.shape)\n",
    "# print(input_list)\n",
    "\n"
   ]
  },
  {
   "cell_type": "markdown",
   "metadata": {},
   "source": [
    "### Question 6\n",
    "\n",
    "_Choose five candidate images of traffic signs and provide them in the report. Are there any particular qualities of the image(s) that might make classification difficult? It could be helpful to plot the images in the notebook._\n",
    "\n"
   ]
  },
  {
   "cell_type": "markdown",
   "metadata": {},
   "source": [
    "**Answer:**\n",
    "Signs are not always centered in the pictures and some of the signs were photographed with a slight angle, these will pose challenges to the classifier.  \n",
    "\n",
    "Also, photos may not be as 'clean' as the training data so noise in the background of the photo can interfere with the clasificaiton.\n",
    "\n",
    "Something else to consider is that I don't know exactly what the sign look like in europe.  So when I picked signs off of the internet to be classified, it is possible that some of my signs were completly out of sample.\n"
   ]
  },
  {
   "cell_type": "code",
   "execution_count": 521,
   "metadata": {
    "collapsed": false
   },
   "outputs": [
    {
     "name": "stdout",
     "output_type": "stream",
     "text": [
      "started\n",
      "test_accuracy 0.428571432829\n",
      "finished\n"
     ]
    }
   ],
   "source": [
    "### Run the predictions here.\n",
    "### Feel free to use as many code cells as needed.\n",
    "\n",
    "out = []\n",
    "logit_result = []\n",
    "softmax_result = []\n",
    "with tf.Session() as sess:\n",
    "    print(\"started\")\n",
    "    old_file_name = \"lenet\"\n",
    "    saver.restore(sess, old_file_name)\n",
    "    \n",
    "    test_accuracy = evaluate(input_list, output_list)\n",
    "    print(\"test_accuracy\", test_accuracy)\n",
    "    \n",
    "    logit_result = sess.run(logits, feed_dict={x:input_list})\n",
    "    softmax_result = sess.run(tf.nn.softmax(logit_result))\n",
    "    print(\"finished\")\n",
    "\n"
   ]
  },
  {
   "cell_type": "markdown",
   "metadata": {},
   "source": [
    "### Question 7\n",
    "\n",
    "_Is your model able to perform equally well on captured pictures when compared to testing on the dataset? The simplest way to do this check the accuracy of the predictions. For example, if the model predicted 1 out of 5 signs correctly, it's 20% accurate._\n",
    "\n",
    "_**NOTE:** You could check the accuracy manually by using `signnames.csv` (same directory). This file has a mapping from the class id (0-42) to the corresponding sign name. So, you could take the class id the model outputs, lookup the name in `signnames.csv` and see if it matches the sign from the image._\n"
   ]
  },
  {
   "cell_type": "markdown",
   "metadata": {},
   "source": [
    "**Answer:**\n",
    "The model predicted 6 out of 14 correctly"
   ]
  },
  {
   "cell_type": "code",
   "execution_count": 527,
   "metadata": {
    "collapsed": false
   },
   "outputs": [
    {
     "name": "stdout",
     "output_type": "stream",
     "text": [
      "started\n",
      "Finished\n"
     ]
    }
   ],
   "source": [
    "### Visualize the softmax probabilities here.\n",
    "### Feel free to use as many code cells as needed.\n",
    "\n",
    "# print(\"out\")\n",
    "# print(out)\n",
    "# print(\"Logit Result\")\n",
    "# print(logit_result)\n",
    "top_logit = []\n",
    "top_soft = []\n",
    "with tf.Session() as sess:\n",
    "    print(\"started\")\n",
    "    top_logit = sess.run(tf.nn.top_k(logit_result, k=4))\n",
    "    top_soft = sess.run(tf.nn.top_k(softmax_result, k=4))\n",
    "    \n",
    "print(\"Finished\")"
   ]
  },
  {
   "cell_type": "code",
   "execution_count": 529,
   "metadata": {
    "collapsed": false
   },
   "outputs": [
    {
     "name": "stdout",
     "output_type": "stream",
     "text": [
      "Top K:\n",
      "[[  1.00000000e+00   1.26558186e-09   2.41098505e-15   1.11607377e-16]\n",
      " [  9.99539852e-01   4.59711970e-04   4.48422725e-07   3.80087711e-10]\n",
      " [  1.00000000e+00   3.07037267e-16   1.41005278e-24   3.25430401e-28]\n",
      " [  9.99334514e-01   6.65445405e-04   4.41169193e-12   1.01530017e-15]\n",
      " [  1.00000000e+00   8.19299684e-10   3.02149581e-13   1.00360705e-16]\n",
      " [  1.00000000e+00   5.84869509e-18   3.36658003e-23   5.82180965e-24]\n",
      " [  6.90519273e-01   1.20714836e-01   8.20958242e-02   4.50168215e-02]\n",
      " [  9.45994258e-01   3.06722894e-02   2.33329572e-02   4.64940825e-07]\n",
      " [  1.00000000e+00   2.69142781e-12   4.52027196e-14   4.97639036e-17]\n",
      " [  9.99967575e-01   1.66650916e-05   7.88317993e-06   7.28280702e-06]\n",
      " [  9.90210414e-01   9.78956930e-03   2.45143283e-09   1.46475849e-13]\n",
      " [  1.00000000e+00   3.02939170e-27   9.92885317e-29   0.00000000e+00]\n",
      " [  8.13967228e-01   1.81074128e-01   3.14260647e-03   1.81578880e-03]\n",
      " [  9.15396750e-01   8.41268674e-02   3.98427306e-04   5.03492884e-05]]\n",
      "[[14 17 13 29]\n",
      " [31 21 24 11]\n",
      " [ 4  1 18  5]\n",
      " [ 2  1  0 31]\n",
      " [25 24 14 29]\n",
      " [13  3 14 17]\n",
      " [14  9 13 29]\n",
      " [36  6 25 10]\n",
      " [17 14  1 29]\n",
      " [18  1 26 29]\n",
      " [39 40 38 33]\n",
      " [38 34 36  0]\n",
      " [11 28 24 29]\n",
      " [39 33 12 40]]\n",
      "\n",
      "Real Labels: [14, 21, 19, 2, 25, 13, 26, 27, 17, 24, 40, 38, 29, 36]\n"
     ]
    }
   ],
   "source": [
    "print(\"Top K:\")\n",
    "print(top_soft[0])\n",
    "print(top_soft[1])\n",
    "print()\n",
    "print(\"Real Labels:\", output_list)"
   ]
  },
  {
   "cell_type": "markdown",
   "metadata": {},
   "source": [
    "### Question 8\n",
    "\n",
    "*Use the model's softmax probabilities to visualize the **certainty** of its predictions, [`tf.nn.top_k`](https://www.tensorflow.org/versions/r0.12/api_docs/python/nn.html#top_k) could prove helpful here. Which predictions is the model certain of? Uncertain? If the model was incorrect in its initial prediction, does the correct prediction appear in the top k? (k should be 5 at most)*\n",
    "\n",
    "`tf.nn.top_k` will return the values and indices (class ids) of the top k predictions. So if k=3, for each sign, it'll return the 3 largest probabilities (out of a possible 43) and the correspoding class ids.\n",
    "\n",
    "Take this numpy array as an example:\n",
    "\n",
    "```\n",
    "# (5, 6) array\n",
    "a = np.array([[ 0.24879643,  0.07032244,  0.12641572,  0.34763842,  0.07893497,\n",
    "         0.12789202],\n",
    "       [ 0.28086119,  0.27569815,  0.08594638,  0.0178669 ,  0.18063401,\n",
    "         0.15899337],\n",
    "       [ 0.26076848,  0.23664738,  0.08020603,  0.07001922,  0.1134371 ,\n",
    "         0.23892179],\n",
    "       [ 0.11943333,  0.29198961,  0.02605103,  0.26234032,  0.1351348 ,\n",
    "         0.16505091],\n",
    "       [ 0.09561176,  0.34396535,  0.0643941 ,  0.16240774,  0.24206137,\n",
    "         0.09155967]])\n",
    "```\n",
    "\n",
    "Running it through `sess.run(tf.nn.top_k(tf.constant(a), k=3))` produces:\n",
    "\n",
    "```\n",
    "TopKV2(values=array([[ 0.34763842,  0.24879643,  0.12789202],\n",
    "       [ 0.28086119,  0.27569815,  0.18063401],\n",
    "       [ 0.26076848,  0.23892179,  0.23664738],\n",
    "       [ 0.29198961,  0.26234032,  0.16505091],\n",
    "       [ 0.34396535,  0.24206137,  0.16240774]]), indices=array([[3, 0, 5],\n",
    "       [0, 1, 4],\n",
    "       [0, 5, 1],\n",
    "       [1, 3, 5],\n",
    "       [1, 4, 3]], dtype=int32))\n",
    "```\n",
    "\n",
    "Looking just at the first row we get `[ 0.34763842,  0.24879643,  0.12789202]`, you can confirm these are the 3 largest probabilities in `a`. You'll also notice `[3, 0, 5]` are the corresponding indices."
   ]
  },
  {
   "cell_type": "markdown",
   "metadata": {},
   "source": [
    "**Answer:**\n",
    "\n",
    "After visualizing the top k of the softmax function it seems that the model was extremely confident about all but one prediction.  \n",
    "\n",
    "The model only guessed 6 out of 14 correct but 3 of the incorrect answers had the correct answer sitting in the top k.  This result was extremely subpar but this likely has to due with the differences between the images i found and the images in teh data set.  I set aside some images for a final test below and the accuracy was 98%, much better than the 42% for my out of sample images that I found on the internet.\n"
   ]
  },
  {
   "cell_type": "markdown",
   "metadata": {},
   "source": [
    "> **Note**: Once you have completed all of the code implementations and successfully answered each question above, you may finalize your work by exporting the iPython Notebook as an HTML document. You can do this by using the menu above and navigating to  \\n\",\n",
    "    \"**File -> Download as -> HTML (.html)**. Include the finished document along with this notebook as your submission."
   ]
  },
  {
   "cell_type": "code",
   "execution_count": 518,
   "metadata": {
    "collapsed": false
   },
   "outputs": [
    {
     "name": "stdout",
     "output_type": "stream",
     "text": [
      "started\n",
      "test_accuracy 0.979916042635\n"
     ]
    }
   ],
   "source": [
    "#test accuracy\n",
    "with tf.Session() as sess:\n",
    "    print(\"started\")\n",
    "    old_file_name = \"lenet\"\n",
    "    saver.restore(sess, old_file_name)\n",
    "    \n",
    "    test_accuracy = evaluate(my_test_x, my_test_y)\n",
    "    print(\"test_accuracy\", test_accuracy)"
   ]
  },
  {
   "cell_type": "code",
   "execution_count": null,
   "metadata": {
    "collapsed": true
   },
   "outputs": [],
   "source": []
  }
 ],
 "metadata": {
  "anaconda-cloud": {},
  "kernelspec": {
   "display_name": "Python [default]",
   "language": "python",
   "name": "python3"
  },
  "language_info": {
   "codemirror_mode": {
    "name": "ipython",
    "version": 3
   },
   "file_extension": ".py",
   "mimetype": "text/x-python",
   "name": "python",
   "nbconvert_exporter": "python",
   "pygments_lexer": "ipython3",
   "version": "3.5.2"
  }
 },
 "nbformat": 4,
 "nbformat_minor": 1
}
